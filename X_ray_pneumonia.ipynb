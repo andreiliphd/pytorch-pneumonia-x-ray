{
 "cells": [
  {
   "cell_type": "code",
   "execution_count": 1,
   "metadata": {},
   "outputs": [],
   "source": [
    "import time\n",
    "import torch as torch\n",
    "from torchvision import transforms\n",
    "from torchvision import datasets"
   ]
  },
  {
   "cell_type": "code",
   "execution_count": 2,
   "metadata": {},
   "outputs": [],
   "source": [
    "image_transforms = {'train': transforms.Compose([transforms.Resize(224),\n",
    "                                     transforms.CenterCrop(224),\n",
    "                                     transforms.ToTensor(),\n",
    "                                     transforms.Normalize(mean=[0.485, 0.456, 0.406],\n",
    "                                                          std=[0.229, 0.224, 0.225])]),\n",
    "                   'valid': transforms.Compose([transforms.Resize(224),\n",
    "                                     transforms.CenterCrop(224),\n",
    "                                     transforms.ToTensor(),\n",
    "                                     transforms.Normalize(mean=[0.485, 0.456, 0.406],\n",
    "                                                          std=[0.229, 0.224, 0.225])]),\n",
    "                   'test': transforms.Compose([transforms.Resize(224),\n",
    "                                     transforms.CenterCrop(224),\n",
    "                                     transforms.ToTensor(), \n",
    "                                     transforms.Normalize(mean=[0.485, 0.456, 0.406],\n",
    "                                                          std=[0.229, 0.224, 0.225])])\n",
    "                  }\n",
    "\n",
    "loaders = {'train': torch.utils.data.DataLoader(datasets.ImageFolder('chest_xray/train', \n",
    "                                                                            transform=image_transforms['train']),\n",
    "                                                        batch_size=128, shuffle=True),                    \n",
    "                   'valid': torch.utils.data.DataLoader(datasets.ImageFolder('chest_xray/val', \n",
    "                                                                             transform=image_transforms['valid']),\n",
    "                                                        batch_size=128, shuffle=True), \n",
    "                   'test': torch.utils.data.DataLoader(datasets.ImageFolder('chest_xray/test', \n",
    "                                                                            transform=image_transforms['test']),\n",
    "                                                        batch_size=128, shuffle=True)}"
   ]
  },
  {
   "cell_type": "code",
   "execution_count": 3,
   "metadata": {},
   "outputs": [],
   "source": [
    "import torch.nn as nn\n",
    "import torch.nn.functional as F\n",
    "\n",
    "# define the CNN architecture\n",
    "class Net(nn.Module):\n",
    "    ### TODO: choose an architecture, and complete the class\n",
    "    def __init__(self):\n",
    "        super(Net, self).__init__()\n",
    "        ## Define layers of a CNN\n",
    "        self.c1 = nn.Conv2d(in_channels=3, out_channels=32, kernel_size=3)\n",
    "        self.c2 = nn.Conv2d(in_channels=32, out_channels=64, kernel_size=3)\n",
    "        self.c3 = nn.Conv2d(in_channels=64, out_channels=128, kernel_size=3)\n",
    "        self.fc1 = nn.Linear(in_features=6272, out_features=512)\n",
    "        self.fc2 = nn.Linear(in_features=512, out_features=256)\n",
    "        self.fc3 = nn.Linear(in_features=256, out_features=412)\n",
    "        self.fc4 = nn.Linear(in_features=412, out_features=133)\n",
    "        \n",
    "    def forward(self, x):\n",
    "        ## Define forward behavior\n",
    "        x = F.relu(F.max_pool2d(self.c1(x), 3))\n",
    "        x = F.relu(F.max_pool2d(self.c2(x), 3))\n",
    "        x = F.relu(F.max_pool2d(self.c3(x), 3))\n",
    "        x = x.view(x.size(0), -1)\n",
    "        x = F.relu(self.fc1(x))\n",
    "        x = F.relu(self.fc2(x))\n",
    "        x = F.relu(self.fc3(x))\n",
    "        x = self.fc4(x)\n",
    "\n",
    "        return x\n"
   ]
  },
  {
   "cell_type": "code",
   "execution_count": 4,
   "metadata": {},
   "outputs": [],
   "source": [
    "model = Net()"
   ]
  },
  {
   "cell_type": "code",
   "execution_count": 5,
   "metadata": {},
   "outputs": [
    {
     "data": {
      "text/plain": [
       "Net(\n",
       "  (c1): Conv2d(3, 32, kernel_size=(3, 3), stride=(1, 1))\n",
       "  (c2): Conv2d(32, 64, kernel_size=(3, 3), stride=(1, 1))\n",
       "  (c3): Conv2d(64, 128, kernel_size=(3, 3), stride=(1, 1))\n",
       "  (fc1): Linear(in_features=6272, out_features=512, bias=True)\n",
       "  (fc2): Linear(in_features=512, out_features=256, bias=True)\n",
       "  (fc3): Linear(in_features=256, out_features=412, bias=True)\n",
       "  (fc4): Linear(in_features=412, out_features=133, bias=True)\n",
       ")"
      ]
     },
     "execution_count": 5,
     "metadata": {},
     "output_type": "execute_result"
    }
   ],
   "source": [
    "model.cuda()"
   ]
  },
  {
   "cell_type": "code",
   "execution_count": 6,
   "metadata": {},
   "outputs": [],
   "source": [
    "import torch.optim as optim\n",
    "\n",
    "criterion = nn.CrossEntropyLoss()\n",
    "optimizer = optim.Adam(model.parameters(), lr = 0.0005)"
   ]
  },
  {
   "cell_type": "code",
   "execution_count": 7,
   "metadata": {},
   "outputs": [
    {
     "name": "stdout",
     "output_type": "stream",
     "text": [
      "Epoch:  0\n",
      "Loss:  1.1078546047210693\n",
      "Validation accuracy: 56%\n"
     ]
    }
   ],
   "source": [
    "for epoch in range(1):\n",
    "    for batch_idx, (data, target) in enumerate(loaders['train']):\n",
    "        model.train()\n",
    "        if torch.cuda.is_available():\n",
    "            data, target = data.cuda(), target.cuda()\n",
    "        output = model(data)\n",
    "        loss = criterion(output, target)\n",
    "        optimizer.zero_grad()\n",
    "        loss.backward()\n",
    "        optimizer.step()\n",
    "        model.eval()\n",
    "    print('Epoch: ', epoch)\n",
    "    total_correct = 0\n",
    "    total = 0\n",
    "    for batch_idx, (data, target) in enumerate(loaders['valid']):\n",
    "        if torch.cuda.is_available():\n",
    "            data, target = data.cuda(), target.cuda()\n",
    "        output = model(data)\n",
    "        loss = criterion(output, target)\n",
    "        print('Loss: ', loss.item())\n",
    "        max_arg_output = torch.argmax(output, dim=1)\n",
    "        total_correct += int(torch.sum(max_arg_output == target))\n",
    "        total += data.shape[0]\n",
    "    print('Validation accuracy: {:.0%}'.format(total_correct/total))\n",
    "    torch.save(model.state_dict(), 'pt/XRP_' + str(time.strftime(\"%Y%m%d_%H%M%S\"))+'.pt')"
   ]
  },
  {
   "cell_type": "code",
   "execution_count": null,
   "metadata": {},
   "outputs": [],
   "source": []
  },
  {
   "cell_type": "code",
   "execution_count": null,
   "metadata": {},
   "outputs": [],
   "source": []
  }
 ],
 "metadata": {
  "kernelspec": {
   "display_name": "Python 3",
   "language": "python",
   "name": "python3"
  },
  "language_info": {
   "codemirror_mode": {
    "name": "ipython",
    "version": 3
   },
   "file_extension": ".py",
   "mimetype": "text/x-python",
   "name": "python",
   "nbconvert_exporter": "python",
   "pygments_lexer": "ipython3",
   "version": "3.7.3"
  }
 },
 "nbformat": 4,
 "nbformat_minor": 2
}
